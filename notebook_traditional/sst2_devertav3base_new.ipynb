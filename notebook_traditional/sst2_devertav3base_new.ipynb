{
 "cells": [
  {
   "cell_type": "code",
   "execution_count": 1,
   "id": "90b47c6c",
   "metadata": {},
   "outputs": [
    {
     "name": "stderr",
     "output_type": "stream",
     "text": [
      "/home/ubuntu/miniconda3/envs/emnlp_2/lib/python3.11/site-packages/tqdm/auto.py:21: TqdmWarning: IProgress not found. Please update jupyter and ipywidgets. See https://ipywidgets.readthedocs.io/en/stable/user_install.html\n",
      "  from .autonotebook import tqdm as notebook_tqdm\n",
      "Generating train split: 100%|██████████| 67349/67349 [00:00<00:00, 1018805.56 examples/s]\n",
      "Generating validation split: 100%|██████████| 872/872 [00:00<00:00, 67765.38 examples/s]\n",
      "Generating test split: 100%|██████████| 1821/1821 [00:00<00:00, 289706.71 examples/s]\n"
     ]
    }
   ],
   "source": [
    "import os\n",
    "# os.environ[\"CUDA_VISIBLE_DEVICES\"] = \"3\"\n",
    "\n",
    "import numpy as np\n",
    "import requests\n",
    "import pandas as pd\n",
    "from io import StringIO\n",
    "import torch\n",
    "from datasets import load_dataset\n",
    "from transformers import AutoTokenizer, AutoModelForQuestionAnswering, TrainingArguments, Trainer\n",
    "from torch.utils.data import Dataset\n",
    "import logging\n",
    "\n",
    "from datasets import load_dataset\n",
    "\n",
    "#load train data\n",
    "import pandas as pd\n",
    "\n",
    "import numpy as np\n",
    "import torch\n",
    "from datasets import load_dataset\n",
    "from transformers import AutoTokenizer, AutoModelForQuestionAnswering, TrainingArguments, Trainer\n",
    "from torch.utils.data import Dataset\n",
    "import logging\n",
    "\n",
    "from datasets import load_dataset\n",
    "\n",
    "raw_datasets  = load_dataset('nyu-mll/glue', 'sst2')\n",
    "\n",
    "\n"
   ]
  },
  {
   "cell_type": "code",
   "execution_count": 2,
   "id": "092be135",
   "metadata": {},
   "outputs": [
    {
     "data": {
      "text/plain": [
       "DatasetDict({\n",
       "    train: Dataset({\n",
       "        features: ['sentence', 'label', 'idx'],\n",
       "        num_rows: 67349\n",
       "    })\n",
       "    validation: Dataset({\n",
       "        features: ['sentence', 'label', 'idx'],\n",
       "        num_rows: 872\n",
       "    })\n",
       "    test: Dataset({\n",
       "        features: ['sentence', 'label', 'idx'],\n",
       "        num_rows: 1821\n",
       "    })\n",
       "})"
      ]
     },
     "execution_count": 2,
     "metadata": {},
     "output_type": "execute_result"
    }
   ],
   "source": [
    "raw_datasets"
   ]
  },
  {
   "cell_type": "code",
   "execution_count": 3,
   "id": "de228bb4",
   "metadata": {},
   "outputs": [
    {
     "name": "stderr",
     "output_type": "stream",
     "text": [
      "/home/ubuntu/miniconda3/envs/emnlp_2/lib/python3.11/site-packages/transformers/convert_slow_tokenizer.py:559: UserWarning: The sentencepiece tokenizer that you are converting to a fast tokenizer uses the byte fallback option which is not implemented in the fast tokenizers. In practice this means that the fast version of the tokenizer can produce unknown tokens whereas the sentencepiece version would have converted these unknown tokens into a sequence of byte tokens matching the original piece of text.\n",
      "  warnings.warn(\n"
     ]
    }
   ],
   "source": [
    "from transformers import AutoTokenizer, AutoModelForMaskedLM, AutoConfig\n",
    "#from roberta import RobertaForSequenceClassification\n",
    "\n",
    "\n",
    "model_name = \"microsoft/deberta-v3-base\"\n",
    "\n",
    "#config.num_labels=2\n",
    "tokenizer = AutoTokenizer.from_pretrained(model_name)\n",
    "tokenizer.padding_side = 'left'"
   ]
  },
  {
   "cell_type": "code",
   "execution_count": 4,
   "id": "ed721fb1",
   "metadata": {},
   "outputs": [
    {
     "name": "stderr",
     "output_type": "stream",
     "text": [
      "Map: 100%|██████████| 67349/67349 [00:04<00:00, 14692.23 examples/s]\n",
      "Map: 100%|██████████| 872/872 [00:00<00:00, 15687.31 examples/s]"
     ]
    },
    {
     "name": "stdout",
     "output_type": "stream",
     "text": [
      "Train Dataset: Dataset({\n",
      "    features: ['sentence', 'label', 'idx', 'labels', 'input'],\n",
      "    num_rows: 67349\n",
      "})\n",
      "Validation Dataset: Dataset({\n",
      "    features: ['sentence', 'label', 'idx', 'labels', 'input'],\n",
      "    num_rows: 872\n",
      "})\n"
     ]
    },
    {
     "name": "stderr",
     "output_type": "stream",
     "text": [
      "\n"
     ]
    }
   ],
   "source": [
    "from datasets import DatasetDict\n",
    "\n",
    "mask_token = tokenizer.mask_token\n",
    "\n",
    "def generate_prompt(data_point):\n",
    "    \"\"\"\n",
    "    Generates a prompt for evaluating the humor intensity of an edited headline.\n",
    "    Args:\n",
    "        data_point (dict): A dictionary containing 'original', 'edit', and 'meanGrade'.\n",
    "    Returns:\n",
    "        str: The formatted prompt as a string.\n",
    "    \"\"\"\n",
    "    return f\"\"\"#Sentence:{data_point['sentence']} #Output:\"\"\"  # noqa: E501\n",
    "\n",
    "\n",
    "# Assuming `dataset` is your DatasetDict\n",
    "def add_label_column(example):\n",
    "\n",
    "    example['labels'] = example['label']\n",
    "  \n",
    "    example['input'] = generate_prompt(example)\n",
    "\n",
    "    \n",
    "    return example\n",
    "\n",
    "# Map the function over train and validation datasets\n",
    "\n",
    "train_data = raw_datasets['train'].map(add_label_column)\n",
    "val_data = raw_datasets['validation'].map(add_label_column)\n",
    "\n",
    "# Remove unnecessary columns\n",
    "\n",
    "# Inspect the updated datasets\n",
    "print(\"Train Dataset:\", train_data)\n",
    "print(\"Validation Dataset:\", val_data)"
   ]
  },
  {
   "cell_type": "code",
   "execution_count": 5,
   "id": "9e33204c",
   "metadata": {},
   "outputs": [
    {
     "data": {
      "text/plain": [
       "0"
      ]
     },
     "execution_count": 5,
     "metadata": {},
     "output_type": "execute_result"
    }
   ],
   "source": [
    "train_data['label'][10]"
   ]
  },
  {
   "cell_type": "code",
   "execution_count": 6,
   "id": "a9fde6d3",
   "metadata": {},
   "outputs": [
    {
     "name": "stderr",
     "output_type": "stream",
     "text": [
      "Map: 100%|██████████| 67349/67349 [00:04<00:00, 14563.92 examples/s]\n",
      "Map: 100%|██████████| 872/872 [00:00<00:00, 12560.34 examples/s]\n"
     ]
    }
   ],
   "source": [
    "from transformers import AutoTokenizer, DataCollatorWithPadding\n",
    "\n",
    "\n",
    "tokenizer.padding_side = 'left'\n",
    "\n",
    "\n",
    "# col_to_delete = ['idx']\n",
    "col_to_delete =  ['sentence', 'label', 'idx']\n",
    "\n",
    "mask_token = tokenizer.mask_token\n",
    "def preprocessing_function(examples):\n",
    "   \n",
    "    return tokenizer(examples['input'], truncation=True, max_length=512)\n",
    "\n",
    "tokenized_train_data = train_data.map(preprocessing_function, batched=True, remove_columns=col_to_delete)\n",
    "tokenized_val_data = val_data.map(preprocessing_function, batched=True, remove_columns=col_to_delete)\n",
    "# llama_tokenized_datasets = llama_tokenized_datasets.rename_column(\"target\", \"label\")\n",
    "tokenized_train_data.set_format(\"torch\")\n",
    "tokenized_val_data.set_format(\"torch\")\n",
    "\n",
    "# Data collator for padding a batch of examples to the maximum length seen in the batch\n",
    "data_collator = DataCollatorWithPadding(tokenizer=tokenizer)"
   ]
  },
  {
   "cell_type": "code",
   "execution_count": 7,
   "id": "1931ed6f",
   "metadata": {},
   "outputs": [
    {
     "data": {
      "text/plain": [
       "'[CLS] #Sentence:goes to absurd lengths #Output:[SEP]'"
      ]
     },
     "execution_count": 7,
     "metadata": {},
     "output_type": "execute_result"
    }
   ],
   "source": [
    "tokenizer.decode(tokenized_train_data['input_ids'][10])\n"
   ]
  },
  {
   "cell_type": "markdown",
   "id": "abd6b985",
   "metadata": {},
   "source": []
  },
  {
   "cell_type": "code",
   "execution_count": 8,
   "id": "25900f05",
   "metadata": {},
   "outputs": [
    {
     "data": {
      "text/plain": [
       "Dataset({\n",
       "    features: ['sentence', 'label', 'idx', 'labels', 'input'],\n",
       "    num_rows: 872\n",
       "})"
      ]
     },
     "execution_count": 8,
     "metadata": {},
     "output_type": "execute_result"
    }
   ],
   "source": [
    "val_data"
   ]
  },
  {
   "cell_type": "code",
   "execution_count": 9,
   "id": "1fdaa612",
   "metadata": {},
   "outputs": [
    {
     "data": {
      "text/plain": [
       "70"
      ]
     },
     "execution_count": 9,
     "metadata": {},
     "output_type": "execute_result"
    }
   ],
   "source": [
    "all_lengths = [len(ids) for ids in tokenized_train_data['input_ids']]\n",
    "mx = max(all_lengths)\n",
    "mx\n"
   ]
  },
  {
   "cell_type": "code",
   "execution_count": 10,
   "id": "d6618d0c",
   "metadata": {},
   "outputs": [
    {
     "name": "stdout",
     "output_type": "stream",
     "text": [
      "0\n"
     ]
    }
   ],
   "source": [
    "count = sum(len(ids) > 512 for ids in tokenized_train_data['input_ids'])\n",
    "print(count)\n"
   ]
  },
  {
   "cell_type": "code",
   "execution_count": 11,
   "id": "7a46cd19",
   "metadata": {},
   "outputs": [
    {
     "name": "stderr",
     "output_type": "stream",
     "text": [
      "Some weights of DebertaV2ForSequenceClassification were not initialized from the model checkpoint at microsoft/deberta-v3-base and are newly initialized: ['classifier.bias', 'classifier.weight', 'pooler.dense.bias', 'pooler.dense.weight']\n",
      "You should probably TRAIN this model on a down-stream task to be able to use it for predictions and inference.\n"
     ]
    }
   ],
   "source": [
    "import torch\n",
    "import torch.nn as nn\n",
    "from transformers import RobertaForSequenceClassification\n",
    "from transformers.activations import ACT2FN\n",
    "import random\n",
    "\n",
    "from transformers import AutoModelForSequenceClassification\n",
    "config = AutoConfig.from_pretrained(model_name)\n",
    "config.mask_token_id = tokenizer.mask_token_id\n",
    "config.num_labels = 2\n",
    "\n",
    "model = AutoModelForSequenceClassification.from_pretrained(model_name, config=config)"
   ]
  },
  {
   "cell_type": "code",
   "execution_count": 12,
   "id": "864ccb2e",
   "metadata": {},
   "outputs": [],
   "source": [
    "import RoCoFT\n",
    "\n",
    "RoCoFT.PEFT(model, method='column', rank=3) \n",
    "#targets=['key', 'value', 'dense', 'query'])"
   ]
  },
  {
   "cell_type": "code",
   "execution_count": 13,
   "id": "bef34afd",
   "metadata": {},
   "outputs": [],
   "source": [
    "\n",
    "import evaluate\n",
    "import numpy as np\n",
    "from sklearn import metrics\n",
    "import torch\n",
    "import numpy as np\n",
    "\n",
    "def compute_metrics(eval_pred):\n",
    "\n",
    "\n",
    "    logits, labels = eval_pred # eval_pred is the tuple of predictions and labels returned by the model\n",
    "    predictions = np.argmax(logits, axis=-1)\n",
    "    \n",
    "    precision = metrics.precision_score(labels, predictions, average=\"macro\")\n",
    "    recall = metrics.recall_score(labels, predictions, average=\"macro\")\n",
    "    f1 = metrics.f1_score(labels, predictions, average=\"macro\")\n",
    "    accuracy = metrics.accuracy_score(labels, predictions)\n",
    "    \n",
    "    return {\"precision\": precision, \"recall\": recall, \"f1-score\": f1, 'accuracy': accuracy}"
   ]
  },
  {
   "cell_type": "code",
   "execution_count": 15,
   "id": "7dbcf96a",
   "metadata": {},
   "outputs": [],
   "source": [
    "from transformers import TrainingArguments, Trainer\n",
    "\n",
    "import time\n",
    "from transformers import Trainer, TrainingArguments\n",
    "training_args = TrainingArguments(\n",
    "    output_dir='dir',\n",
    "    learning_rate=3e-3,\n",
    "    per_device_train_batch_size=32,\n",
    "    per_device_eval_batch_size=32,\n",
    "    num_train_epochs=2,\n",
    "    weight_decay=0.0,\n",
    "    eval_strategy=\"steps\",\n",
    "    save_strategy=\"steps\",\n",
    "    save_total_limit=2,\n",
    "    save_steps=10000000,\n",
    "    logging_steps=100,\n",
    "   \n",
    "    load_best_model_at_end=True,\n",
    "    lr_scheduler_type=\"cosine\",  # You can choose from 'linear', 'cosine', 'cosine_with_restarts', 'polynomial', etc.\n",
    "    warmup_steps=100,\n",
    ")\n",
    "\n",
    "trainer = Trainer(\n",
    "    model=model,\n",
    "    args=training_args,\n",
    "    train_dataset=tokenized_train_data,\n",
    "    eval_dataset=tokenized_val_data,\n",
    "\n",
    "    data_collator=data_collator,\n",
    "    compute_metrics=compute_metrics\n",
    ")"
   ]
  },
  {
   "cell_type": "code",
   "execution_count": 16,
   "id": "557cdbf4",
   "metadata": {},
   "outputs": [
    {
     "data": {
      "text/html": [
       "\n",
       "    <div>\n",
       "      \n",
       "      <progress value='4210' max='4210' style='width:300px; height:20px; vertical-align: middle;'></progress>\n",
       "      [4210/4210 16:56, Epoch 2/2]\n",
       "    </div>\n",
       "    <table border=\"1\" class=\"dataframe\">\n",
       "  <thead>\n",
       " <tr style=\"text-align: left;\">\n",
       "      <th>Step</th>\n",
       "      <th>Training Loss</th>\n",
       "      <th>Validation Loss</th>\n",
       "      <th>Precision</th>\n",
       "      <th>Recall</th>\n",
       "      <th>F1-score</th>\n",
       "      <th>Accuracy</th>\n",
       "    </tr>\n",
       "  </thead>\n",
       "  <tbody>\n",
       "    <tr>\n",
       "      <td>100</td>\n",
       "      <td>0.589400</td>\n",
       "      <td>0.779009</td>\n",
       "      <td>0.799330</td>\n",
       "      <td>0.677696</td>\n",
       "      <td>0.645334</td>\n",
       "      <td>0.683486</td>\n",
       "    </tr>\n",
       "    <tr>\n",
       "      <td>200</td>\n",
       "      <td>0.366800</td>\n",
       "      <td>0.241519</td>\n",
       "      <td>0.908383</td>\n",
       "      <td>0.908100</td>\n",
       "      <td>0.908198</td>\n",
       "      <td>0.908257</td>\n",
       "    </tr>\n",
       "    <tr>\n",
       "      <td>300</td>\n",
       "      <td>0.306300</td>\n",
       "      <td>0.199523</td>\n",
       "      <td>0.930375</td>\n",
       "      <td>0.927075</td>\n",
       "      <td>0.927542</td>\n",
       "      <td>0.927752</td>\n",
       "    </tr>\n",
       "    <tr>\n",
       "      <td>400</td>\n",
       "      <td>0.270800</td>\n",
       "      <td>0.172378</td>\n",
       "      <td>0.947370</td>\n",
       "      <td>0.947483</td>\n",
       "      <td>0.947247</td>\n",
       "      <td>0.947248</td>\n",
       "    </tr>\n",
       "    <tr>\n",
       "      <td>500</td>\n",
       "      <td>0.260200</td>\n",
       "      <td>0.175638</td>\n",
       "      <td>0.935201</td>\n",
       "      <td>0.934337</td>\n",
       "      <td>0.934561</td>\n",
       "      <td>0.934633</td>\n",
       "    </tr>\n",
       "    <tr>\n",
       "      <td>600</td>\n",
       "      <td>0.271900</td>\n",
       "      <td>0.174826</td>\n",
       "      <td>0.934574</td>\n",
       "      <td>0.933053</td>\n",
       "      <td>0.932307</td>\n",
       "      <td>0.932339</td>\n",
       "    </tr>\n",
       "    <tr>\n",
       "      <td>700</td>\n",
       "      <td>0.227400</td>\n",
       "      <td>0.220930</td>\n",
       "      <td>0.925622</td>\n",
       "      <td>0.919940</td>\n",
       "      <td>0.920508</td>\n",
       "      <td>0.920872</td>\n",
       "    </tr>\n",
       "    <tr>\n",
       "      <td>800</td>\n",
       "      <td>0.231900</td>\n",
       "      <td>0.176411</td>\n",
       "      <td>0.937500</td>\n",
       "      <td>0.936632</td>\n",
       "      <td>0.936857</td>\n",
       "      <td>0.936927</td>\n",
       "    </tr>\n",
       "    <tr>\n",
       "      <td>900</td>\n",
       "      <td>0.215500</td>\n",
       "      <td>0.188071</td>\n",
       "      <td>0.941775</td>\n",
       "      <td>0.941810</td>\n",
       "      <td>0.941514</td>\n",
       "      <td>0.941514</td>\n",
       "    </tr>\n",
       "    <tr>\n",
       "      <td>1000</td>\n",
       "      <td>0.232100</td>\n",
       "      <td>0.217195</td>\n",
       "      <td>0.922499</td>\n",
       "      <td>0.917730</td>\n",
       "      <td>0.918253</td>\n",
       "      <td>0.918578</td>\n",
       "    </tr>\n",
       "    <tr>\n",
       "      <td>1100</td>\n",
       "      <td>0.218300</td>\n",
       "      <td>0.179794</td>\n",
       "      <td>0.936923</td>\n",
       "      <td>0.936884</td>\n",
       "      <td>0.936903</td>\n",
       "      <td>0.936927</td>\n",
       "    </tr>\n",
       "    <tr>\n",
       "      <td>1200</td>\n",
       "      <td>0.200500</td>\n",
       "      <td>0.160050</td>\n",
       "      <td>0.942097</td>\n",
       "      <td>0.941220</td>\n",
       "      <td>0.941449</td>\n",
       "      <td>0.941514</td>\n",
       "    </tr>\n",
       "    <tr>\n",
       "      <td>1300</td>\n",
       "      <td>0.214100</td>\n",
       "      <td>0.157133</td>\n",
       "      <td>0.946102</td>\n",
       "      <td>0.946062</td>\n",
       "      <td>0.946080</td>\n",
       "      <td>0.946101</td>\n",
       "    </tr>\n",
       "    <tr>\n",
       "      <td>1400</td>\n",
       "      <td>0.196100</td>\n",
       "      <td>0.160883</td>\n",
       "      <td>0.946549</td>\n",
       "      <td>0.945851</td>\n",
       "      <td>0.946049</td>\n",
       "      <td>0.946101</td>\n",
       "    </tr>\n",
       "    <tr>\n",
       "      <td>1500</td>\n",
       "      <td>0.202300</td>\n",
       "      <td>0.157302</td>\n",
       "      <td>0.942027</td>\n",
       "      <td>0.941894</td>\n",
       "      <td>0.941513</td>\n",
       "      <td>0.941514</td>\n",
       "    </tr>\n",
       "    <tr>\n",
       "      <td>1600</td>\n",
       "      <td>0.198300</td>\n",
       "      <td>0.177933</td>\n",
       "      <td>0.943326</td>\n",
       "      <td>0.942347</td>\n",
       "      <td>0.942593</td>\n",
       "      <td>0.942661</td>\n",
       "    </tr>\n",
       "    <tr>\n",
       "      <td>1700</td>\n",
       "      <td>0.191200</td>\n",
       "      <td>0.153044</td>\n",
       "      <td>0.949550</td>\n",
       "      <td>0.947977</td>\n",
       "      <td>0.948311</td>\n",
       "      <td>0.948394</td>\n",
       "    </tr>\n",
       "    <tr>\n",
       "      <td>1800</td>\n",
       "      <td>0.184800</td>\n",
       "      <td>0.160726</td>\n",
       "      <td>0.946314</td>\n",
       "      <td>0.945935</td>\n",
       "      <td>0.946063</td>\n",
       "      <td>0.946101</td>\n",
       "    </tr>\n",
       "    <tr>\n",
       "      <td>1900</td>\n",
       "      <td>0.190900</td>\n",
       "      <td>0.148329</td>\n",
       "      <td>0.947230</td>\n",
       "      <td>0.947230</td>\n",
       "      <td>0.947230</td>\n",
       "      <td>0.947248</td>\n",
       "    </tr>\n",
       "    <tr>\n",
       "      <td>2000</td>\n",
       "      <td>0.160900</td>\n",
       "      <td>0.166539</td>\n",
       "      <td>0.944744</td>\n",
       "      <td>0.943431</td>\n",
       "      <td>0.943727</td>\n",
       "      <td>0.943807</td>\n",
       "    </tr>\n",
       "    <tr>\n",
       "      <td>2100</td>\n",
       "      <td>0.179600</td>\n",
       "      <td>0.154351</td>\n",
       "      <td>0.945471</td>\n",
       "      <td>0.944683</td>\n",
       "      <td>0.944897</td>\n",
       "      <td>0.944954</td>\n",
       "    </tr>\n",
       "    <tr>\n",
       "      <td>2200</td>\n",
       "      <td>0.165400</td>\n",
       "      <td>0.168065</td>\n",
       "      <td>0.939885</td>\n",
       "      <td>0.939642</td>\n",
       "      <td>0.939218</td>\n",
       "      <td>0.939220</td>\n",
       "    </tr>\n",
       "    <tr>\n",
       "      <td>2300</td>\n",
       "      <td>0.161500</td>\n",
       "      <td>0.158297</td>\n",
       "      <td>0.948847</td>\n",
       "      <td>0.948146</td>\n",
       "      <td>0.948345</td>\n",
       "      <td>0.948394</td>\n",
       "    </tr>\n",
       "    <tr>\n",
       "      <td>2400</td>\n",
       "      <td>0.144400</td>\n",
       "      <td>0.155967</td>\n",
       "      <td>0.948520</td>\n",
       "      <td>0.948272</td>\n",
       "      <td>0.948365</td>\n",
       "      <td>0.948394</td>\n",
       "    </tr>\n",
       "    <tr>\n",
       "      <td>2500</td>\n",
       "      <td>0.155200</td>\n",
       "      <td>0.171628</td>\n",
       "      <td>0.944381</td>\n",
       "      <td>0.942136</td>\n",
       "      <td>0.942540</td>\n",
       "      <td>0.942661</td>\n",
       "    </tr>\n",
       "    <tr>\n",
       "      <td>2600</td>\n",
       "      <td>0.151800</td>\n",
       "      <td>0.160383</td>\n",
       "      <td>0.945471</td>\n",
       "      <td>0.944683</td>\n",
       "      <td>0.944897</td>\n",
       "      <td>0.944954</td>\n",
       "    </tr>\n",
       "    <tr>\n",
       "      <td>2700</td>\n",
       "      <td>0.147900</td>\n",
       "      <td>0.161815</td>\n",
       "      <td>0.948448</td>\n",
       "      <td>0.948314</td>\n",
       "      <td>0.948370</td>\n",
       "      <td>0.948394</td>\n",
       "    </tr>\n",
       "    <tr>\n",
       "      <td>2800</td>\n",
       "      <td>0.147600</td>\n",
       "      <td>0.164291</td>\n",
       "      <td>0.947370</td>\n",
       "      <td>0.947483</td>\n",
       "      <td>0.947247</td>\n",
       "      <td>0.947248</td>\n",
       "    </tr>\n",
       "    <tr>\n",
       "      <td>2900</td>\n",
       "      <td>0.140500</td>\n",
       "      <td>0.166137</td>\n",
       "      <td>0.944978</td>\n",
       "      <td>0.944893</td>\n",
       "      <td>0.944931</td>\n",
       "      <td>0.944954</td>\n",
       "    </tr>\n",
       "    <tr>\n",
       "      <td>3000</td>\n",
       "      <td>0.124100</td>\n",
       "      <td>0.156678</td>\n",
       "      <td>0.947215</td>\n",
       "      <td>0.947356</td>\n",
       "      <td>0.947241</td>\n",
       "      <td>0.947248</td>\n",
       "    </tr>\n",
       "    <tr>\n",
       "      <td>3100</td>\n",
       "      <td>0.137400</td>\n",
       "      <td>0.168162</td>\n",
       "      <td>0.945626</td>\n",
       "      <td>0.944641</td>\n",
       "      <td>0.944889</td>\n",
       "      <td>0.944954</td>\n",
       "    </tr>\n",
       "    <tr>\n",
       "      <td>3200</td>\n",
       "      <td>0.139400</td>\n",
       "      <td>0.146799</td>\n",
       "      <td>0.949500</td>\n",
       "      <td>0.949566</td>\n",
       "      <td>0.949528</td>\n",
       "      <td>0.949541</td>\n",
       "    </tr>\n",
       "    <tr>\n",
       "      <td>3300</td>\n",
       "      <td>0.125200</td>\n",
       "      <td>0.160162</td>\n",
       "      <td>0.950646</td>\n",
       "      <td>0.950777</td>\n",
       "      <td>0.950680</td>\n",
       "      <td>0.950688</td>\n",
       "    </tr>\n",
       "    <tr>\n",
       "      <td>3400</td>\n",
       "      <td>0.151400</td>\n",
       "      <td>0.150308</td>\n",
       "      <td>0.951819</td>\n",
       "      <td>0.951819</td>\n",
       "      <td>0.951819</td>\n",
       "      <td>0.951835</td>\n",
       "    </tr>\n",
       "    <tr>\n",
       "      <td>3500</td>\n",
       "      <td>0.129600</td>\n",
       "      <td>0.153207</td>\n",
       "      <td>0.948353</td>\n",
       "      <td>0.948482</td>\n",
       "      <td>0.948386</td>\n",
       "      <td>0.948394</td>\n",
       "    </tr>\n",
       "    <tr>\n",
       "      <td>3600</td>\n",
       "      <td>0.127100</td>\n",
       "      <td>0.153817</td>\n",
       "      <td>0.949567</td>\n",
       "      <td>0.949482</td>\n",
       "      <td>0.949520</td>\n",
       "      <td>0.949541</td>\n",
       "    </tr>\n",
       "    <tr>\n",
       "      <td>3700</td>\n",
       "      <td>0.118000</td>\n",
       "      <td>0.156653</td>\n",
       "      <td>0.947206</td>\n",
       "      <td>0.947272</td>\n",
       "      <td>0.947234</td>\n",
       "      <td>0.947248</td>\n",
       "    </tr>\n",
       "    <tr>\n",
       "      <td>3800</td>\n",
       "      <td>0.140400</td>\n",
       "      <td>0.152465</td>\n",
       "      <td>0.948348</td>\n",
       "      <td>0.948440</td>\n",
       "      <td>0.948383</td>\n",
       "      <td>0.948394</td>\n",
       "    </tr>\n",
       "    <tr>\n",
       "      <td>3900</td>\n",
       "      <td>0.151000</td>\n",
       "      <td>0.151734</td>\n",
       "      <td>0.948353</td>\n",
       "      <td>0.948482</td>\n",
       "      <td>0.948386</td>\n",
       "      <td>0.948394</td>\n",
       "    </tr>\n",
       "    <tr>\n",
       "      <td>4000</td>\n",
       "      <td>0.137200</td>\n",
       "      <td>0.150959</td>\n",
       "      <td>0.948363</td>\n",
       "      <td>0.948398</td>\n",
       "      <td>0.948379</td>\n",
       "      <td>0.948394</td>\n",
       "    </tr>\n",
       "    <tr>\n",
       "      <td>4100</td>\n",
       "      <td>0.128200</td>\n",
       "      <td>0.151403</td>\n",
       "      <td>0.948363</td>\n",
       "      <td>0.948398</td>\n",
       "      <td>0.948379</td>\n",
       "      <td>0.948394</td>\n",
       "    </tr>\n",
       "    <tr>\n",
       "      <td>4200</td>\n",
       "      <td>0.129400</td>\n",
       "      <td>0.151355</td>\n",
       "      <td>0.948363</td>\n",
       "      <td>0.948398</td>\n",
       "      <td>0.948379</td>\n",
       "      <td>0.948394</td>\n",
       "    </tr>\n",
       "  </tbody>\n",
       "</table><p>"
      ],
      "text/plain": [
       "<IPython.core.display.HTML object>"
      ]
     },
     "metadata": {},
     "output_type": "display_data"
    },
    {
     "data": {
      "text/plain": [
       "TrainOutput(global_step=4210, training_loss=0.19187744422649827, metrics={'train_runtime': 1017.7355, 'train_samples_per_second': 132.351, 'train_steps_per_second': 4.137, 'total_flos': 14004757466832.0, 'train_loss': 0.19187744422649827, 'epoch': 2.0})"
      ]
     },
     "execution_count": 16,
     "metadata": {},
     "output_type": "execute_result"
    }
   ],
   "source": [
    "trainer.train()"
   ]
  },
  {
   "cell_type": "code",
   "execution_count": 16,
   "id": "3434487a",
   "metadata": {},
   "outputs": [
    {
     "data": {
      "text/plain": [
       "Dataset({\n",
       "    features: ['sentence', 'label', 'idx', 'labels', 'input'],\n",
       "    num_rows: 67349\n",
       "})"
      ]
     },
     "execution_count": 16,
     "metadata": {},
     "output_type": "execute_result"
    }
   ],
   "source": [
    "train_data"
   ]
  },
  {
   "cell_type": "code",
   "execution_count": null,
   "id": "e17bcbe5",
   "metadata": {},
   "outputs": [],
   "source": []
  }
 ],
 "metadata": {
  "kernelspec": {
   "display_name": "emnlp_2",
   "language": "python",
   "name": "python3"
  },
  "language_info": {
   "codemirror_mode": {
    "name": "ipython",
    "version": 3
   },
   "file_extension": ".py",
   "mimetype": "text/x-python",
   "name": "python",
   "nbconvert_exporter": "python",
   "pygments_lexer": "ipython3",
   "version": "3.11.11"
  }
 },
 "nbformat": 4,
 "nbformat_minor": 5
}
